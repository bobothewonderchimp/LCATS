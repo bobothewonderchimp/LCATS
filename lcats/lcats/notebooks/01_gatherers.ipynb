{
 "cells": [
  {
   "cell_type": "markdown",
   "metadata": {},
   "source": [
    "# Experiments with Text Extraction"
   ]
  },
  {
   "cell_type": "markdown",
   "metadata": {},
   "source": [
    "## Imports"
   ]
  },
  {
   "cell_type": "markdown",
   "metadata": {},
   "source": [
    "General imports"
   ]
  },
  {
   "cell_type": "code",
   "execution_count": 14,
   "metadata": {},
   "outputs": [],
   "source": [
    "import os\n",
    "import sys\n",
    "\n",
    "from bs4 import BeautifulSoup\n"
   ]
  },
  {
   "cell_type": "markdown",
   "metadata": {},
   "source": [
    "Enable imports within the project"
   ]
  },
  {
   "cell_type": "code",
   "execution_count": 9,
   "metadata": {},
   "outputs": [],
   "source": [
    "# Add the parent directory to the path so we can import modules from the parent directory.\n",
    "module_path = os.path.abspath(os.path.join('..'))\n",
    "if module_path not in sys.path:\n",
    "    sys.path.append(module_path)\n",
    "\n",
    "import lcats.gatherers.downloaders as downloaders\n",
    "import lcats.gatherers.lovecraft.gutenberg as lovecraft"
   ]
  },
  {
   "cell_type": "code",
   "execution_count": 3,
   "metadata": {},
   "outputs": [],
   "source": [
    "if False:  # Code to reload modules if we make local code changes, off by default.\n",
    "    from importlib import reload\n",
    "    reload(lovecraft)"
   ]
  },
  {
   "cell_type": "markdown",
   "metadata": {},
   "source": [
    "## Fixing the Lovecraft Imports"
   ]
  },
  {
   "cell_type": "code",
   "execution_count": 4,
   "metadata": {},
   "outputs": [
    {
     "name": "stdout",
     "output_type": "stream",
     "text": [
      "Gathering Lovecraft stories.\n",
      "Resource https://www.gutenberg.org/cache/epub/68283/pg68283-images.html exists at fde290f2d75031040e0b8f6cd82096047321c29585664908fe6ecaf8ef6dc533.html , skipping download.\n"
     ]
    },
    {
     "ename": "ValueError",
     "evalue": "Failed to find text for the_call_of_cthulhu given the_call_of_cthulhu in https://www.gutenberg.org/cache/epub/68283/pg68283-images.html",
     "output_type": "error",
     "traceback": [
      "\u001b[0;31m---------------------------------------------------------------------------\u001b[0m",
      "\u001b[0;31mValueError\u001b[0m                                Traceback (most recent call last)",
      "Cell \u001b[0;32mIn[4], line 1\u001b[0m\n\u001b[0;32m----> 1\u001b[0m \u001b[43mlovecraft\u001b[49m\u001b[38;5;241;43m.\u001b[39;49m\u001b[43mmain\u001b[49m\u001b[43m(\u001b[49m\u001b[43m)\u001b[49m\n",
      "File \u001b[0;32m~/Workspace/LCATS/LCATS/lcats/lcats/gatherers/lovecraft/gutenberg.py:92\u001b[0m, in \u001b[0;36mmain\u001b[0;34m()\u001b[0m\n\u001b[1;32m     90\u001b[0m \u001b[38;5;250m\u001b[39m\u001b[38;5;124;03m\"\"\"Extract the Lovecraft stories from the Gutenberg Project.\"\"\"\u001b[39;00m\n\u001b[1;32m     91\u001b[0m \u001b[38;5;28mprint\u001b[39m(\u001b[38;5;124m\"\u001b[39m\u001b[38;5;124mGathering Lovecraft stories.\u001b[39m\u001b[38;5;124m\"\u001b[39m)\n\u001b[0;32m---> 92\u001b[0m downloads \u001b[38;5;241m=\u001b[39m \u001b[43mgather\u001b[49m\u001b[43m(\u001b[49m\u001b[43m)\u001b[49m\n\u001b[1;32m     93\u001b[0m \u001b[38;5;28mprint\u001b[39m(\u001b[38;5;124mf\u001b[39m\u001b[38;5;124m\"\u001b[39m\u001b[38;5;124m - Total stories in Lovecraft corpus: \u001b[39m\u001b[38;5;132;01m{\u001b[39;00m\u001b[38;5;28mlen\u001b[39m(downloads)\u001b[38;5;132;01m}\u001b[39;00m\u001b[38;5;124m\"\u001b[39m)\n",
      "File \u001b[0;32m~/Workspace/LCATS/LCATS/lcats/lcats/gatherers/lovecraft/gutenberg.py:78\u001b[0m, in \u001b[0;36mgather\u001b[0;34m()\u001b[0m\n\u001b[1;32m     73\u001b[0m gatherer \u001b[38;5;241m=\u001b[39m downloaders\u001b[38;5;241m.\u001b[39mDataGatherer(\n\u001b[1;32m     74\u001b[0m     \u001b[38;5;124m\"\u001b[39m\u001b[38;5;124mlovecraft\u001b[39m\u001b[38;5;124m\"\u001b[39m, \n\u001b[1;32m     75\u001b[0m     description\u001b[38;5;241m=\u001b[39m\u001b[38;5;124m\"\u001b[39m\u001b[38;5;124mLovecraft stories from the Gutenberg Project.\u001b[39m\u001b[38;5;124m\"\u001b[39m,\n\u001b[1;32m     76\u001b[0m     license\u001b[38;5;241m=\u001b[39m\u001b[38;5;124m\"\u001b[39m\u001b[38;5;124mPublic domain, from Project Gutenberg.\u001b[39m\u001b[38;5;124m\"\u001b[39m)\n\u001b[1;32m     77\u001b[0m \u001b[38;5;28;01mfor\u001b[39;00m title, url \u001b[38;5;129;01min\u001b[39;00m THE_LOVECRAFT_FILES\u001b[38;5;241m.\u001b[39mitems():\n\u001b[0;32m---> 78\u001b[0m     \u001b[43mgatherer\u001b[49m\u001b[38;5;241;43m.\u001b[39;49m\u001b[43mdownload\u001b[49m\u001b[43m(\u001b[49m\n\u001b[1;32m     79\u001b[0m \u001b[43m        \u001b[49m\u001b[43mtitle\u001b[49m\u001b[43m,\u001b[49m\n\u001b[1;32m     80\u001b[0m \u001b[43m        \u001b[49m\u001b[43murl\u001b[49m\u001b[43m,\u001b[49m\n\u001b[1;32m     81\u001b[0m \u001b[43m        \u001b[49m\u001b[43mcreate_download_callback\u001b[49m\u001b[43m(\u001b[49m\n\u001b[1;32m     82\u001b[0m \u001b[43m            \u001b[49m\u001b[43mstory_name\u001b[49m\u001b[38;5;241;43m=\u001b[39;49m\u001b[43mtitle\u001b[49m\u001b[43m,\u001b[49m\n\u001b[1;32m     83\u001b[0m \u001b[43m            \u001b[49m\u001b[43murl\u001b[49m\u001b[38;5;241;43m=\u001b[39;49m\u001b[43murl\u001b[49m\u001b[43m,\u001b[49m\n\u001b[1;32m     84\u001b[0m \u001b[43m            \u001b[49m\u001b[43mstart_heading_text\u001b[49m\u001b[38;5;241;43m=\u001b[39;49m\u001b[43mtitle\u001b[49m\u001b[43m,\u001b[49m\n\u001b[1;32m     85\u001b[0m \u001b[43m            \u001b[49m\u001b[43mdescription\u001b[49m\u001b[38;5;241;43m=\u001b[39;49m\u001b[43mtitle\u001b[49m\u001b[43m)\u001b[49m\u001b[43m)\u001b[49m\n\u001b[1;32m     86\u001b[0m \u001b[38;5;28;01mreturn\u001b[39;00m gatherer\u001b[38;5;241m.\u001b[39mdownloads\n",
      "File \u001b[0;32m~/Workspace/LCATS/LCATS/lcats/lcats/gatherers/downloaders.py:218\u001b[0m, in \u001b[0;36mDataGatherer.download\u001b[0;34m(self, filename, resource, handler, force)\u001b[0m\n\u001b[1;32m    215\u001b[0m contents \u001b[38;5;241m=\u001b[39m \u001b[38;5;28mself\u001b[39m\u001b[38;5;241m.\u001b[39mresource(resource, force\u001b[38;5;241m=\u001b[39mforce)\n\u001b[1;32m    217\u001b[0m \u001b[38;5;66;03m# Execute the callback to get the data to save\u001b[39;00m\n\u001b[0;32m--> 218\u001b[0m descriptive_name, body_text, additional_data \u001b[38;5;241m=\u001b[39m \u001b[43mhandler\u001b[49m\u001b[43m(\u001b[49m\u001b[43mcontents\u001b[49m\u001b[43m)\u001b[49m\n\u001b[1;32m    219\u001b[0m \u001b[38;5;28;01mif\u001b[39;00m body_text \u001b[38;5;129;01mis\u001b[39;00m \u001b[38;5;28;01mNone\u001b[39;00m:\n\u001b[1;32m    220\u001b[0m     \u001b[38;5;28;01mraise\u001b[39;00m \u001b[38;5;167;01mValueError\u001b[39;00m(\u001b[38;5;124mf\u001b[39m\u001b[38;5;124m\"\u001b[39m\u001b[38;5;124mFailed to download \u001b[39m\u001b[38;5;132;01m{\u001b[39;00mdescriptive_name\u001b[38;5;132;01m}\u001b[39;00m\u001b[38;5;124m\"\u001b[39m)\n",
      "File \u001b[0;32m~/Workspace/LCATS/LCATS/lcats/lcats/gatherers/lovecraft/gutenberg.py:56\u001b[0m, in \u001b[0;36mcreate_download_callback.<locals>.story_download_callback\u001b[0;34m(contents)\u001b[0m\n\u001b[1;32m     54\u001b[0m story_text \u001b[38;5;241m=\u001b[39m find_paragraphs_lovecraft(story_soup, start_heading_text)\n\u001b[1;32m     55\u001b[0m \u001b[38;5;28;01mif\u001b[39;00m story_text \u001b[38;5;129;01mis\u001b[39;00m \u001b[38;5;28;01mNone\u001b[39;00m:\n\u001b[0;32m---> 56\u001b[0m     \u001b[38;5;28;01mraise\u001b[39;00m \u001b[38;5;167;01mValueError\u001b[39;00m(\n\u001b[1;32m     57\u001b[0m         \u001b[38;5;124mf\u001b[39m\u001b[38;5;124m\"\u001b[39m\u001b[38;5;124mFailed to find text for \u001b[39m\u001b[38;5;132;01m{\u001b[39;00mstory_name\u001b[38;5;132;01m}\u001b[39;00m\u001b[38;5;124m given \u001b[39m\u001b[38;5;132;01m{\u001b[39;00mstart_heading_text\u001b[38;5;132;01m}\u001b[39;00m\u001b[38;5;124m in \u001b[39m\u001b[38;5;132;01m{\u001b[39;00murl\u001b[38;5;132;01m}\u001b[39;00m\u001b[38;5;124m\"\u001b[39m)\n\u001b[1;32m     59\u001b[0m story_data \u001b[38;5;241m=\u001b[39m {\n\u001b[1;32m     60\u001b[0m     \u001b[38;5;124m\"\u001b[39m\u001b[38;5;124mauthor\u001b[39m\u001b[38;5;124m\"\u001b[39m: \u001b[38;5;124m\"\u001b[39m\u001b[38;5;124mHoward Phillips Lovecraft\u001b[39m\u001b[38;5;124m\"\u001b[39m,\n\u001b[1;32m     61\u001b[0m     \u001b[38;5;124m\"\u001b[39m\u001b[38;5;124myear\u001b[39m\u001b[38;5;124m\"\u001b[39m: \u001b[38;5;241m1891\u001b[39m,\n\u001b[1;32m     62\u001b[0m     \u001b[38;5;124m\"\u001b[39m\u001b[38;5;124murl\u001b[39m\u001b[38;5;124m\"\u001b[39m: url,\n\u001b[1;32m     63\u001b[0m     \u001b[38;5;124m\"\u001b[39m\u001b[38;5;124mname\u001b[39m\u001b[38;5;124m\"\u001b[39m: story_name,\n\u001b[1;32m     64\u001b[0m }\n\u001b[1;32m     66\u001b[0m \u001b[38;5;28;01mreturn\u001b[39;00m description, story_text, story_data\n",
      "\u001b[0;31mValueError\u001b[0m: Failed to find text for the_call_of_cthulhu given the_call_of_cthulhu in https://www.gutenberg.org/cache/epub/68283/pg68283-images.html"
     ]
    }
   ],
   "source": [
    "lovecraft.main()"
   ]
  },
  {
   "cell_type": "code",
   "execution_count": 7,
   "metadata": {},
   "outputs": [
    {
     "data": {
      "text/plain": [
       "12"
      ]
     },
     "execution_count": 7,
     "metadata": {},
     "output_type": "execute_result"
    }
   ],
   "source": [
    "lovecraft_files = lovecraft.THE_LOVECRAFT_FILES\n",
    "len(lovecraft_files)"
   ]
  },
  {
   "cell_type": "markdown",
   "metadata": {},
   "source": [
    "## Find Broken URLs"
   ]
  },
  {
   "cell_type": "code",
   "execution_count": 16,
   "metadata": {},
   "outputs": [
    {
     "name": "stdout",
     "output_type": "stream",
     "text": [
      "Story: the_call_of_cthulhu\n",
      " - url: https://www.gutenberg.org/cache/epub/68283/pg68283-images.html\n",
      "File successfully downloaded.\n",
      " - contents: <!DOCTYPE html>\n",
      "<html lang=\"en\">\n",
      "<head>\n",
      "<meta charset=\"utf-8\"><style>\n",
      "#pg-header div, #pg-footer\n",
      " - title: \n",
      "      The Project Gutenberg eBook of The Call of Cthulhu, by H.P. Lovecraft.\n",
      "    \n",
      "\n",
      "Story: the_dunwich_horror\n",
      " - url: https://www.gutenberg.org/cache/epub/50133/pg50133-images.html\n",
      "File successfully downloaded.\n",
      " - contents: <!DOCTYPE html>\n",
      "<html lang=\"en\">\n",
      "<head>\n",
      "<meta charset=\"utf-8\"><style>\n",
      "#pg-header div, #pg-footer\n",
      " - title: \n",
      "      The Project Gutenberg eBook of the Dunwich Horror, by H. P. Lovecraft.\n",
      "    \n",
      "\n",
      "Story: at_the_mountains_of_madness\n",
      " - url: https://www.gutenberg.org/files/50133/50133-h/50133-h.htm\n",
      "File successfully downloaded.\n",
      " - contents: <!DOCTYPE html PUBLIC \"-//W3C//DTD XHTML 1.0 Strict//EN\"\n",
      "    \"http://www.w3.org/TR/xhtml1/DTD/xhtml\n",
      " - title: \n",
      "      The Project Gutenberg eBook of the Dunwich Horror, by H. P. Lovecraft.\n",
      "    \n",
      "\n",
      "Story: the_shadow_over_innsmouth\n",
      " - url: https://www.gutenberg.org/files/50133/50133-h/50133-h.htm\n",
      "File successfully downloaded.\n",
      " - contents: <!DOCTYPE html PUBLIC \"-//W3C//DTD XHTML 1.0 Strict//EN\"\n",
      "    \"http://www.w3.org/TR/xhtml1/DTD/xhtml\n",
      " - title: \n",
      "      The Project Gutenberg eBook of the Dunwich Horror, by H. P. Lovecraft.\n",
      "    \n",
      "\n",
      "Story: the_colour_out_of_space\n",
      " - url: https://www.gutenberg.org/files/50133/50133-h/50133-h.htm\n",
      "File successfully downloaded.\n",
      " - contents: <!DOCTYPE html PUBLIC \"-//W3C//DTD XHTML 1.0 Strict//EN\"\n",
      "    \"http://www.w3.org/TR/xhtml1/DTD/xhtml\n",
      " - title: \n",
      "      The Project Gutenberg eBook of the Dunwich Horror, by H. P. Lovecraft.\n",
      "    \n",
      "\n",
      "Story: the_whisperer_in_darkness\n",
      " - url: https://www.gutenberg.org/files/50133/50133-h/50133-h.htm\n",
      "File successfully downloaded.\n",
      " - contents: <!DOCTYPE html PUBLIC \"-//W3C//DTD XHTML 1.0 Strict//EN\"\n",
      "    \"http://www.w3.org/TR/xhtml1/DTD/xhtml\n",
      " - title: \n",
      "      The Project Gutenberg eBook of the Dunwich Horror, by H. P. Lovecraft.\n",
      "    \n",
      "\n",
      "Story: the_dreams_in_the_witch_house\n",
      " - url: https://www.gutenberg.org/files/50133/50133-h/50133-h.htm\n",
      "File successfully downloaded.\n",
      " - contents: <!DOCTYPE html PUBLIC \"-//W3C//DTD XHTML 1.0 Strict//EN\"\n",
      "    \"http://www.w3.org/TR/xhtml1/DTD/xhtml\n",
      " - title: \n",
      "      The Project Gutenberg eBook of the Dunwich Horror, by H. P. Lovecraft.\n",
      "    \n",
      "\n",
      "Story: the_thing_on_the_doorstep\n",
      " - url: https://www.gutenberg.org/files/50133/50133-h/50133-h.htm\n",
      "File successfully downloaded.\n",
      " - contents: <!DOCTYPE html PUBLIC \"-//W3C//DTD XHTML 1.0 Strict//EN\"\n",
      "    \"http://www.w3.org/TR/xhtml1/DTD/xhtml\n",
      " - title: \n",
      "      The Project Gutenberg eBook of the Dunwich Horror, by H. P. Lovecraft.\n",
      "    \n",
      "\n",
      "Story: the_shadow_out_of_time\n",
      " - url: https://www.gutenberg.org/files/50133/50133-h/50133-h.htm\n",
      "File successfully downloaded.\n",
      " - contents: <!DOCTYPE html PUBLIC \"-//W3C//DTD XHTML 1.0 Strict//EN\"\n",
      "    \"http://www.w3.org/TR/xhtml1/DTD/xhtml\n",
      " - title: \n",
      "      The Project Gutenberg eBook of the Dunwich Horror, by H. P. Lovecraft.\n",
      "    \n",
      "\n",
      "Story: the_haunter_of_the_dark\n",
      " - url: https://www.gutenberg.org/files/50133/50133-h/50133-h.htm\n",
      "File successfully downloaded.\n",
      " - contents: <!DOCTYPE html PUBLIC \"-//W3C//DTD XHTML 1.0 Strict//EN\"\n",
      "    \"http://www.w3.org/TR/xhtml1/DTD/xhtml\n",
      " - title: \n",
      "      The Project Gutenberg eBook of the Dunwich Horror, by H. P. Lovecraft.\n",
      "    \n",
      "\n",
      "Story: the_case_of_charles_dexter_ward\n",
      " - url: https://www.gutenberg.org/files/50133/50133-h/50133-h.htm\n",
      "File successfully downloaded.\n",
      " - contents: <!DOCTYPE html PUBLIC \"-//W3C//DTD XHTML 1.0 Strict//EN\"\n",
      "    \"http://www.w3.org/TR/xhtml1/DTD/xhtml\n",
      " - title: \n",
      "      The Project Gutenberg eBook of the Dunwich Horror, by H. P. Lovecraft.\n",
      "    \n",
      "\n",
      "Story: the_ritual\n",
      " - url: https://www.gutenberg.org/files/50133/50133-h/50133-h.htm\n",
      "File successfully downloaded.\n",
      " - contents: <!DOCTYPE html PUBLIC \"-//W3C//DTD XHTML 1.0 Strict//EN\"\n",
      "    \"http://www.w3.org/TR/xhtml1/DTD/xhtml\n",
      " - title: \n",
      "      The Project Gutenberg eBook of the Dunwich Horror, by H. P. Lovecraft.\n",
      "    \n",
      "\n",
      "12\n"
     ]
    }
   ],
   "source": [
    "downloads = []\n",
    "for story in lovecraft_files:\n",
    "    print(\"Story:\", story)\n",
    "    url = lovecraft_files[story] \n",
    "    print(\" - url:\", url)\n",
    "    contents = downloaders.load_page(url)\n",
    "    print(\" - contents:\", contents[:100])\n",
    "    soup = BeautifulSoup(contents, \"lxml\")\n",
    "    if soup.title:\n",
    "        print(\" - title:\", soup.title.string)\n",
    "    else:\n",
    "        print(\" - title: None\")\n",
    "    print()\n",
    "    downloads.append((story, url, contents, soup))\n",
    "\n",
    "print(len(downloads))\n"
   ]
  },
  {
   "cell_type": "markdown",
   "metadata": {},
   "source": [
    "## Fix Gathering for Known URLs"
   ]
  },
  {
   "cell_type": "code",
   "execution_count": 18,
   "metadata": {},
   "outputs": [],
   "source": [
    "story_title = 'the_call_of_cthulhu'\n",
    "story_url = lovecraft_files[story_title]\n",
    "story_callback = lovecraft.create_download_callback(\n",
    "    story_name=story_title,\n",
    "    url=story_url,\n",
    "    start_heading_text=story_title,\n",
    "    description=story_title\n",
    ")\n",
    "gatherer = downloaders.DataGatherer(\n",
    "    \"lovecraft\",\n",
    "    description=\"H.P. Lovecraft stories\",\n",
    "    license=\"Public Domain\",\n",
    ")"
   ]
  },
  {
   "cell_type": "code",
   "execution_count": 21,
   "metadata": {},
   "outputs": [
    {
     "name": "stdout",
     "output_type": "stream",
     "text": [
      "Resource https://www.gutenberg.org/cache/epub/68283/pg68283-images.html exists at fde290f2d75031040e0b8f6cd82096047321c29585664908fe6ecaf8ef6dc533.html , skipping download.\n"
     ]
    },
    {
     "ename": "ValueError",
     "evalue": "Failed to find text for the_call_of_cthulhu given the_call_of_cthulhu in https://www.gutenberg.org/cache/epub/68283/pg68283-images.html",
     "output_type": "error",
     "traceback": [
      "\u001b[0;31m---------------------------------------------------------------------------\u001b[0m",
      "\u001b[0;31mValueError\u001b[0m                                Traceback (most recent call last)",
      "Cell \u001b[0;32mIn[21], line 1\u001b[0m\n\u001b[0;32m----> 1\u001b[0m \u001b[43mgatherer\u001b[49m\u001b[38;5;241;43m.\u001b[39;49m\u001b[43mdownload\u001b[49m\u001b[43m(\u001b[49m\u001b[43mstory_title\u001b[49m\u001b[43m,\u001b[49m\u001b[43m \u001b[49m\u001b[43mstory_url\u001b[49m\u001b[43m,\u001b[49m\u001b[43m \u001b[49m\u001b[43mstory_callback\u001b[49m\u001b[43m)\u001b[49m\n",
      "File \u001b[0;32m~/Workspace/LCATS/LCATS/lcats/lcats/gatherers/downloaders.py:218\u001b[0m, in \u001b[0;36mDataGatherer.download\u001b[0;34m(self, filename, resource, handler, force)\u001b[0m\n\u001b[1;32m    215\u001b[0m contents \u001b[38;5;241m=\u001b[39m \u001b[38;5;28mself\u001b[39m\u001b[38;5;241m.\u001b[39mresource(resource, force\u001b[38;5;241m=\u001b[39mforce)\n\u001b[1;32m    217\u001b[0m \u001b[38;5;66;03m# Execute the callback to get the data to save\u001b[39;00m\n\u001b[0;32m--> 218\u001b[0m descriptive_name, body_text, additional_data \u001b[38;5;241m=\u001b[39m \u001b[43mhandler\u001b[49m\u001b[43m(\u001b[49m\u001b[43mcontents\u001b[49m\u001b[43m)\u001b[49m\n\u001b[1;32m    219\u001b[0m \u001b[38;5;28;01mif\u001b[39;00m body_text \u001b[38;5;129;01mis\u001b[39;00m \u001b[38;5;28;01mNone\u001b[39;00m:\n\u001b[1;32m    220\u001b[0m     \u001b[38;5;28;01mraise\u001b[39;00m \u001b[38;5;167;01mValueError\u001b[39;00m(\u001b[38;5;124mf\u001b[39m\u001b[38;5;124m\"\u001b[39m\u001b[38;5;124mFailed to download \u001b[39m\u001b[38;5;132;01m{\u001b[39;00mdescriptive_name\u001b[38;5;132;01m}\u001b[39;00m\u001b[38;5;124m\"\u001b[39m)\n",
      "File \u001b[0;32m~/Workspace/LCATS/LCATS/lcats/lcats/gatherers/lovecraft/gutenberg.py:56\u001b[0m, in \u001b[0;36mcreate_download_callback.<locals>.story_download_callback\u001b[0;34m(contents)\u001b[0m\n\u001b[1;32m     54\u001b[0m story_text \u001b[38;5;241m=\u001b[39m find_paragraphs_lovecraft(story_soup, start_heading_text)\n\u001b[1;32m     55\u001b[0m \u001b[38;5;28;01mif\u001b[39;00m story_text \u001b[38;5;129;01mis\u001b[39;00m \u001b[38;5;28;01mNone\u001b[39;00m:\n\u001b[0;32m---> 56\u001b[0m     \u001b[38;5;28;01mraise\u001b[39;00m \u001b[38;5;167;01mValueError\u001b[39;00m(\n\u001b[1;32m     57\u001b[0m         \u001b[38;5;124mf\u001b[39m\u001b[38;5;124m\"\u001b[39m\u001b[38;5;124mFailed to find text for \u001b[39m\u001b[38;5;132;01m{\u001b[39;00mstory_name\u001b[38;5;132;01m}\u001b[39;00m\u001b[38;5;124m given \u001b[39m\u001b[38;5;132;01m{\u001b[39;00mstart_heading_text\u001b[38;5;132;01m}\u001b[39;00m\u001b[38;5;124m in \u001b[39m\u001b[38;5;132;01m{\u001b[39;00murl\u001b[38;5;132;01m}\u001b[39;00m\u001b[38;5;124m\"\u001b[39m)\n\u001b[1;32m     59\u001b[0m story_data \u001b[38;5;241m=\u001b[39m {\n\u001b[1;32m     60\u001b[0m     \u001b[38;5;124m\"\u001b[39m\u001b[38;5;124mauthor\u001b[39m\u001b[38;5;124m\"\u001b[39m: \u001b[38;5;124m\"\u001b[39m\u001b[38;5;124mHoward Phillips Lovecraft\u001b[39m\u001b[38;5;124m\"\u001b[39m,\n\u001b[1;32m     61\u001b[0m     \u001b[38;5;124m\"\u001b[39m\u001b[38;5;124myear\u001b[39m\u001b[38;5;124m\"\u001b[39m: \u001b[38;5;241m1891\u001b[39m,\n\u001b[1;32m     62\u001b[0m     \u001b[38;5;124m\"\u001b[39m\u001b[38;5;124murl\u001b[39m\u001b[38;5;124m\"\u001b[39m: url,\n\u001b[1;32m     63\u001b[0m     \u001b[38;5;124m\"\u001b[39m\u001b[38;5;124mname\u001b[39m\u001b[38;5;124m\"\u001b[39m: story_name,\n\u001b[1;32m     64\u001b[0m }\n\u001b[1;32m     66\u001b[0m \u001b[38;5;28;01mreturn\u001b[39;00m description, story_text, story_data\n",
      "\u001b[0;31mValueError\u001b[0m: Failed to find text for the_call_of_cthulhu given the_call_of_cthulhu in https://www.gutenberg.org/cache/epub/68283/pg68283-images.html"
     ]
    }
   ],
   "source": [
    "gatherer.download(story_title, story_url, story_callback)"
   ]
  },
  {
   "cell_type": "code",
   "execution_count": null,
   "metadata": {},
   "outputs": [],
   "source": [
    "start_separator = 'pg-start-separator'\n",
    "end_separator = 'pg-end-separator'"
   ]
  }
 ],
 "metadata": {
  "kernelspec": {
   "display_name": "LCATS",
   "language": "python",
   "name": "python3"
  },
  "language_info": {
   "codemirror_mode": {
    "name": "ipython",
    "version": 3
   },
   "file_extension": ".py",
   "mimetype": "text/x-python",
   "name": "python",
   "nbconvert_exporter": "python",
   "pygments_lexer": "ipython3",
   "version": "3.11.9"
  }
 },
 "nbformat": 4,
 "nbformat_minor": 2
}
