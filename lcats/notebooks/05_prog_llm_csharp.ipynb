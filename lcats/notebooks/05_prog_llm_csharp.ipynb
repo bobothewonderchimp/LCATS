{
 "cells": [
  {
   "cell_type": "markdown",
   "metadata": {},
   "source": [
    "# Examples from \"Programming Large Language Models with Azure Open AI\""
   ]
  },
  {
   "cell_type": "markdown",
   "metadata": {},
   "source": [
    "## Installations and Imports"
   ]
  },
  {
   "cell_type": "code",
   "execution_count": null,
   "metadata": {
    "dotnet_interactive": {
     "language": "csharp"
    },
    "polyglot_notebook": {
     "kernelName": "csharp"
    },
    "vscode": {
     "languageId": "polyglot-notebook"
    }
   },
   "outputs": [],
   "source": [
    "#r \"nuget: Azure.AI.OpenAI, 1.0.0-beta.12\"\n",
    "#r \"nuget: OpenAI.SDK\""
   ]
  },
  {
   "cell_type": "code",
   "execution_count": 6,
   "metadata": {
    "dotnet_interactive": {
     "language": "csharp"
    },
    "polyglot_notebook": {
     "kernelName": "csharp"
    },
    "vscode": {
     "languageId": "polyglot-notebook"
    }
   },
   "outputs": [],
   "source": [
    "using System;\n",
    "using OpenAI;\n",
    "using Azure.AI.OpenAI;"
   ]
  },
  {
   "cell_type": "markdown",
   "metadata": {},
   "source": [
    "## API Access"
   ]
  },
  {
   "cell_type": "markdown",
   "metadata": {},
   "source": [
    "Environmental variable version"
   ]
  },
  {
   "cell_type": "code",
   "execution_count": 7,
   "metadata": {
    "dotnet_interactive": {
     "language": "csharp"
    },
    "polyglot_notebook": {
     "kernelName": "csharp"
    },
    "vscode": {
     "languageId": "polyglot-notebook"
    }
   },
   "outputs": [],
   "source": [
    "// var AOAI_ENDPOINT = Environment.GetEnvironmentVariable(\"AOAI_ENDPOINT\");\n",
    "// var AOAI_KEY = Environment.GetEnvironmentVariable(\"AOAI_KEY\");\n",
    "// var AOAI_DEPLOYMENT_ID = Environment.GetEnvironmentVariable(\"AOAI_DEPLOYMENT_ID\");\n",
    "// var AOAI_chat_DEPLOYMENT_ID = Environment.GetEnvironmentVariable(\"AOAI_chat_DEPLOYMENT_ID\");\n",
    "// var endpoint = new Uri(AOAI_ENDPOINT);"
   ]
  },
  {
   "cell_type": "markdown",
   "metadata": {},
   "source": [
    "Manual version"
   ]
  },
  {
   "cell_type": "code",
   "execution_count": 8,
   "metadata": {
    "dotnet_interactive": {
     "language": "csharp"
    },
    "polyglot_notebook": {
     "kernelName": "csharp"
    },
    "vscode": {
     "languageId": "polyglot-notebook"
    }
   },
   "outputs": [],
   "source": [
    "var AOAI_KEY = \"4xsNMWz52P3mKSSWahUppx0MNoB8dCwwNzMfJwibLDGLvR6EFx3wJQQJ99ALACHYHv6XJ3w3AAAAACOGE0I4\";\n",
    "// var AOAI_ENDPOINT = \"https://ai-centaurtutorialhub235280263281.openai.azure.com/openai/deployments/gpt-35-turbo/chat/completions?api-version=2024-08-01-preview\";\n",
    "// https://ai-centaurtutorialhub235280263281.openai.azure.com/openai/deployments/gpt-35-turbo/chat/completions?api-version=2024-08-01-preview\n",
    "var AOAI_ENDPOINT = \"https://ai-centaurtutorialhub235280263281.openai.azure.com/\";\n",
    "var AOAI_DEPLOYMENT_ID = \"gpt-4\";\n",
    "var AOAI_chat_DEPLOYMENT_ID = \"chat\";\n",
    "\n",
    "Environment.SetEnvironmentVariable(\"AOAI_KEY\", AOAI_KEY);\n",
    "Environment.SetEnvironmentVariable(\"AOAI_ENDPOINT\", AOAI_ENDPOINT);\n",
    "Environment.SetEnvironmentVariable(\"AOAI_DEPLOYMENT_ID\", AOAI_DEPLOYMENT_ID);\n",
    "Environment.SetEnvironmentVariable(\"AOAI_chat_DEPLOYMENT_ID\", AOAI_chat_DEPLOYMENT_ID);"
   ]
  },
  {
   "cell_type": "markdown",
   "metadata": {},
   "source": [
    "Creating the credentials and client"
   ]
  },
  {
   "cell_type": "code",
   "execution_count": 9,
   "metadata": {
    "dotnet_interactive": {
     "language": "csharp"
    },
    "polyglot_notebook": {
     "kernelName": "csharp"
    },
    "vscode": {
     "languageId": "polyglot-notebook"
    }
   },
   "outputs": [],
   "source": [
    "var endpoint = new Uri(AOAI_ENDPOINT);\n",
    "var credentials = new Azure.AzureKeyCredential(AOAI_KEY);\n",
    "var openAIClient = new OpenAIClient(endpoint, credentials);"
   ]
  },
  {
   "cell_type": "code",
   "execution_count": 10,
   "metadata": {
    "dotnet_interactive": {
     "language": "csharp"
    },
    "polyglot_notebook": {
     "kernelName": "csharp"
    },
    "vscode": {
     "languageId": "polyglot-notebook"
    }
   },
   "outputs": [],
   "source": [
    "var prompt = \n",
    "    @\"rephrase the following text:\"\n",
    "    + @\" <<<When aiming to align the output of a language model\"\n",
    "    + @\" more closely with the desired outcome, there are several\"\n",
    "    + @\" options to consider. One approach involves modifying the\"\n",
    "    + @\" prompt itself, while another involves working with hyperparameters of the model>>\";"
   ]
  },
  {
   "cell_type": "markdown",
   "metadata": {},
   "source": [
    "Original Code Sample"
   ]
  },
  {
   "cell_type": "code",
   "execution_count": 11,
   "metadata": {
    "dotnet_interactive": {
     "language": "csharp"
    },
    "polyglot_notebook": {
     "kernelName": "csharp"
    },
    "vscode": {
     "languageId": "polyglot-notebook"
    }
   },
   "outputs": [],
   "source": [
    "var completionOptions = new ChatCompletionsOptions{\n",
    "    DeploymentName = AOAI_DEPLOYMENT_ID,\n",
    "    MaxTokens = 500,\n",
    "    Temperature = 0.7f,\n",
    "    FrequencyPenalty = 0.0f,\n",
    "    PresencePenalty = 0.0f,\n",
    "    NucleusSamplingFactor = 1\n",
    "};"
   ]
  },
  {
   "cell_type": "code",
   "execution_count": null,
   "metadata": {
    "dotnet_interactive": {
     "language": "csharp"
    },
    "polyglot_notebook": {
     "kernelName": "csharp"
    },
    "vscode": {
     "languageId": "polyglot-notebook"
    }
   },
   "outputs": [],
   "source": [
    "completionOptions.Messages.Add(new ChatRequestUserMessage(prompt));\n",
    "var response = await openAIClient.GetChatCompletionsAsync(completionOptions);\n",
    "var completions = response.Value;\n",
    "completions.Choices[0].Message.Content.Display();\n"
   ]
  },
  {
   "cell_type": "markdown",
   "metadata": {},
   "source": [
    "Revised Code Sample"
   ]
  },
  {
   "cell_type": "code",
   "execution_count": null,
   "metadata": {
    "dotnet_interactive": {
     "language": "csharp"
    },
    "polyglot_notebook": {
     "kernelName": "csharp"
    },
    "vscode": {
     "languageId": "polyglot-notebook"
    }
   },
   "outputs": [],
   "source": [
    "using OpenAI.SDK;\n",
    "var chatCompletionsOptions = new ChatCompletionsOptions\n",
    "{\n",
    "    MaxTokens = 500,\n",
    "    Temperature = 0.7f,\n",
    "    FrequencyPenalty = 0.0f,\n",
    "    PresencePenalty = 0.0f,\n",
    "    Messages =\n",
    "    {\n",
    "        new ChatMessage(ChatRole.System, \"You are a helpful assistant.\"),\n",
    "        new ChatMessage(ChatRole.User, prompt)\n",
    "    }\n",
    "};\n"
   ]
  },
  {
   "cell_type": "code",
   "execution_count": null,
   "metadata": {
    "dotnet_interactive": {
     "language": "csharp"
    },
    "polyglot_notebook": {
     "kernelName": "csharp"
    },
    "vscode": {
     "languageId": "polyglot-notebook"
    }
   },
   "outputs": [],
   "source": [
    "// completionOptions.Messages.Add(new ChatRequestUserMessage(prompt));\n",
    "// var response = await openAIClient.GetChatCompletionsAsync(completionOptions);\n",
    "// var completions = response.Value;\n",
    "// completions.Choices[0].Message.Content.Display();\n",
    "\n",
    "try\n",
    "{\n",
    "    var response = await openAIClient.GetChatCompletionsAsync(AOAI_DEPLOYMENT_ID, chatCompletionsOptions);\n",
    "    var completions = response.Value;\n",
    "    Console.WriteLine(completions.Choices[0].Message.Content);\n",
    "}\n",
    "catch (Azure.RequestFailedException ex)\n",
    "{\n",
    "    Console.WriteLine($\"Error: {ex.Message}\");\n",
    "}"
   ]
  },
  {
   "cell_type": "code",
   "execution_count": null,
   "metadata": {
    "dotnet_interactive": {
     "language": "csharp"
    },
    "polyglot_notebook": {
     "kernelName": "csharp"
    },
    "vscode": {
     "languageId": "polyglot-notebook"
    }
   },
   "outputs": [],
   "source": [
    "using System;\n",
    "using System.Net.Http;\n",
    "using System.Net.Http.Headers;\n",
    "using System.Threading.Tasks;\n",
    "\n",
    "var endpoint = Environment.GetEnvironmentVariable(\"AOAI_ENDPOINT\");\n",
    "var apiKey = Environment.GetEnvironmentVariable(\"AOAI_KEY\");\n",
    "\n",
    "if (string.IsNullOrEmpty(endpoint) || string.IsNullOrEmpty(apiKey))\n",
    "{\n",
    "    Console.WriteLine(\"Environment variables AOAI_ENDPOINT or AOAI_KEY are not set.\");\n",
    "    return;\n",
    "}\n",
    "\n",
    "using (var client = new HttpClient())\n",
    "{\n",
    "    client.BaseAddress = new Uri(endpoint);\n",
    "    client.DefaultRequestHeaders.Add(\"api-key\", apiKey);\n",
    "\n",
    "    var apiVersion = \"2023-03-15-preview\"; // Use the appropriate API version\n",
    "    var requestUri = $\"/openai/deployments?api-version={apiVersion}\";\n",
    "\n",
    "    try\n",
    "    {\n",
    "        var response = await client.GetAsync(requestUri);\n",
    "\n",
    "        if (response.IsSuccessStatusCode)\n",
    "        {\n",
    "            var responseContent = await response.Content.ReadAsStringAsync();\n",
    "            Console.WriteLine(\"Deployments:\");\n",
    "            Console.WriteLine(responseContent);\n",
    "        }\n",
    "        else\n",
    "        {\n",
    "            Console.WriteLine($\"Error: {response.StatusCode}\");\n",
    "            var errorContent = await response.Content.ReadAsStringAsync();\n",
    "            Console.WriteLine(errorContent);\n",
    "        }\n",
    "    }\n",
    "    catch (Exception ex)\n",
    "    {\n",
    "        Console.WriteLine($\"Exception: {ex.Message}\");\n",
    "    }\n",
    "}\n"
   ]
  },
  {
   "cell_type": "code",
   "execution_count": null,
   "metadata": {
    "dotnet_interactive": {
     "language": "csharp"
    },
    "polyglot_notebook": {
     "kernelName": "csharp"
    },
    "vscode": {
     "languageId": "polyglot-notebook"
    }
   },
   "outputs": [],
   "source": [
    "AOAI_ENDPOINT"
   ]
  },
  {
   "cell_type": "code",
   "execution_count": null,
   "metadata": {
    "dotnet_interactive": {
     "language": "csharp"
    },
    "polyglot_notebook": {
     "kernelName": "csharp"
    },
    "vscode": {
     "languageId": "polyglot-notebook"
    }
   },
   "outputs": [],
   "source": [
    "using System;\n",
    "using System.Reflection;\n",
    "\n",
    "var assembly = Assembly.Load(\"Azure.AI.OpenAI\");\n",
    "var version = assembly.GetName().Version;\n",
    "Console.WriteLine($\"Azure.AI.OpenAI version: {version}\");\n"
   ]
  },
  {
   "cell_type": "code",
   "execution_count": null,
   "metadata": {
    "dotnet_interactive": {
     "language": "csharp"
    },
    "polyglot_notebook": {
     "kernelName": "csharp"
    },
    "vscode": {
     "languageId": "polyglot-notebook"
    }
   },
   "outputs": [],
   "source": [
    "Console.WriteLine(\"Hello, World!\");"
   ]
  },
  {
   "cell_type": "code",
   "execution_count": null,
   "metadata": {
    "dotnet_interactive": {
     "language": "csharp"
    },
    "polyglot_notebook": {
     "kernelName": "csharp"
    },
    "vscode": {
     "languageId": "polyglot-notebook"
    }
   },
   "outputs": [],
   "source": [
    "using Azure;\n",
    "using Azure.AI.OpenAI;\n",
    "\n",
    "AzureOpenAIClient azureClient = new(\n",
    "    new Uri(endpoint),\n",
    "    new AzureKeyCredential(key));\n",
    "\n",
    "ChatClient chatClient = azureClient.GetChatClient(\"gpt-35-turbo\");\n",
    "\n",
    "ChatCompletion completion = chatClient.CompleteChat(\n",
    "    [\n",
    "        new SystemChatMessage(\"You are a helpful assistant that talks like a pirate.\"),\n",
    "        new UserChatMessage(\"Does Azure OpenAI support customer managed keys?\"),\n",
    "        new AssistantChatMessage(\"Yes, customer managed keys are supported by Azure OpenAI\"),\n",
    "        new UserChatMessage(\"Do other Azure AI services support this too?\")\n",
    "    ]);\n",
    "\n",
    "Console.WriteLine($\"{completion.Role}: {completion.Content[0].Text}\");"
   ]
  },
  {
   "cell_type": "code",
   "execution_count": null,
   "metadata": {
    "dotnet_interactive": {
     "language": "csharp"
    },
    "polyglot_notebook": {
     "kernelName": "csharp"
    },
    "vscode": {
     "languageId": "polyglot-notebook"
    }
   },
   "outputs": [],
   "source": [
    "LASTCODE - this notebook is not functional yet."
   ]
  }
 ],
 "metadata": {
  "kernelspec": {
   "display_name": ".NET (C#)",
   "language": "C#",
   "name": ".net-csharp"
  },
  "language_info": {
   "file_extension": ".cs",
   "mimetype": "text/x-csharp",
   "name": "C#",
   "pygments_lexer": "csharp",
   "version": "12.0"
  },
  "polyglot_notebook": {
   "kernelInfo": {
    "defaultKernelName": "csharp",
    "items": [
     {
      "aliases": [],
      "name": "csharp"
     }
    ]
   }
  }
 },
 "nbformat": 4,
 "nbformat_minor": 2
}
