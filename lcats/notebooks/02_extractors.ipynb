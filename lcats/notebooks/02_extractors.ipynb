{
 "cells": [
  {
   "cell_type": "markdown",
   "metadata": {},
   "source": [
    "# Data Extraction Tests"
   ]
  },
  {
   "cell_type": "markdown",
   "metadata": {},
   "source": [
    "## Imports"
   ]
  },
  {
   "cell_type": "code",
   "execution_count": 1,
   "metadata": {},
   "outputs": [],
   "source": [
    "from gutenbergpy.gutenbergcache import GutenbergCache\n",
    "from gutenbergpy.gutenbergcachesettings import GutenbergCacheSettings\n",
    "from gutenbergpy import textget"
   ]
  },
  {
   "cell_type": "markdown",
   "metadata": {},
   "source": [
    "## Book Extraction"
   ]
  },
  {
   "cell_type": "code",
   "execution_count": 31,
   "metadata": {},
   "outputs": [
    {
     "name": "stdout",
     "output_type": "stream",
     "text": [
      "b'*** START OF THE PROJECT GUTENBERG EBOOK 1342 ***\\r\\n\\r\\n\\r\\n\\r\\n\\r\\n                            [Illustration:\\r\\n\\r\\n                             GEORGE ALLEN\\r\\n                               PUBLISHER\\r\\n\\r\\n                        156 CHARING CROSS ROAD\\r\\n                                LONDON\\r\\n\\r\\n                             RUSKIN HOUSE\\r\\n                                   ]\\r\\n\\r\\n                            [Illustration:\\r\\n\\r\\n               _Reading Jane\\xe2\\x80\\x99s Letters._      _Chap 34._\\r\\n                             '\n"
     ]
    }
   ],
   "source": [
    "# Fetch the text for a specific book\n",
    "GutenbergCacheSettings.TEXT_FILES_CACHE_FOLDER = 'output/texts'\n",
    "book_text = textget.get_text_by_id(1342)  # Pride and Prejudice\n",
    "print(book_text[:500])"
   ]
  },
  {
   "cell_type": "code",
   "execution_count": 28,
   "metadata": {},
   "outputs": [
    {
     "name": "stdout",
     "output_type": "stream",
     "text": [
      "Clean book:\n",
      "\n",
      "\n",
      "\n",
      "\n",
      "                            [Illustration:\n",
      "\n",
      "                             GEORGE ALLEN\n",
      "                               PUBLISHER\n",
      "\n",
      "                        156 CHARING CROSS ROAD\n",
      "                                LONDON\n",
      "\n",
      "                             RUSKIN HOUSE\n",
      "                                   ]\n",
      "\n",
      "                            [Illustration:\n",
      "\n",
      "               _Reading Jane’s Letters._      _Chap 34._\n",
      "                                   ]\n",
      "\n",
      "\n",
      "\n",
      "\n",
      "                                PRIDE.\n",
      "                  \n",
      "\n",
      "Raw book:\n",
      "*** START OF THE PROJECT GUTENBERG EBOOK 1342 ***\n",
      "\n",
      "\n",
      "\n",
      "\n",
      "                            [Illustration:\n",
      "\n",
      "                             GEORGE ALLEN\n",
      "                               PUBLISHER\n",
      "\n",
      "                        156 CHARING CROSS ROAD\n",
      "                                LONDON\n",
      "\n",
      "                             RUSKIN HOUSE\n",
      "                                   ]\n",
      "\n",
      "                            [Illustration:\n",
      "\n",
      "               _Reading Jane’s Letters._      _Chap 34._\n",
      "                             \n"
     ]
    }
   ],
   "source": [
    "# From https://pypi.org/project/gutenbergpy/\n",
    "def usage_example(id):\n",
    "    # This gets a book by its gutenberg id number\n",
    "    raw_book = textget.get_text_by_id(id) # with headers\n",
    "    clean_book = textget.strip_headers(raw_book) # without headers\n",
    "    return clean_book, raw_book\n",
    "\n",
    "def make_printable(bytes):\n",
    "    text = bytes.decode(\"utf-8\")\n",
    "    return text\n",
    "\n",
    "clean_book, raw_book = usage_example(1342)\n",
    "print(\"Clean book:\")\n",
    "print(make_printable(clean_book[:500]))\n",
    "print()\n",
    "print(\"Raw book:\")\n",
    "print(make_printable(raw_book[:500]))"
   ]
  },
  {
   "cell_type": "code",
   "execution_count": 26,
   "metadata": {},
   "outputs": [
    {
     "data": {
      "text/plain": [
       "bytes"
      ]
     },
     "execution_count": 26,
     "metadata": {},
     "output_type": "execute_result"
    }
   ],
   "source": [
    "type(raw_book)"
   ]
  },
  {
   "cell_type": "code",
   "execution_count": null,
   "metadata": {},
   "outputs": [],
   "source": [
    "cache = GutenbergCache.get_cache()\n"
   ]
  }
 ],
 "metadata": {
  "kernelspec": {
   "display_name": "LCATS",
   "language": "python",
   "name": "python3"
  },
  "language_info": {
   "codemirror_mode": {
    "name": "ipython",
    "version": 3
   },
   "file_extension": ".py",
   "mimetype": "text/x-python",
   "name": "python",
   "nbconvert_exporter": "python",
   "pygments_lexer": "ipython3",
   "version": "3.11.9"
  }
 },
 "nbformat": 4,
 "nbformat_minor": 2
}
