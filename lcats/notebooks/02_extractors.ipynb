{
 "cells": [
  {
   "cell_type": "markdown",
   "metadata": {},
   "source": [
    "# Data Extraction Tests"
   ]
  },
  {
   "cell_type": "markdown",
   "metadata": {},
   "source": [
    "## Imports"
   ]
  },
  {
   "cell_type": "code",
   "execution_count": 2,
   "metadata": {},
   "outputs": [],
   "source": [
    "from gutenbergpy.gutenbergcache import GutenbergCache\n",
    "from gutenbergpy.gutenbergcachesettings import GutenbergCacheSettings\n",
    "from gutenbergpy import textget"
   ]
  },
  {
   "cell_type": "markdown",
   "metadata": {},
   "source": [
    "## Book Extraction"
   ]
  },
  {
   "cell_type": "code",
   "execution_count": null,
   "metadata": {},
   "outputs": [],
   "source": [
    "# Fetch the text for a specific book\n",
    "GutenbergCacheSettings.TEXT_FILES_CACHE_FOLDER = 'output/texts'\n",
    "book_text = textget.get_text_by_id(1342)  # Pride and Prejudice\n",
    "print(book_text[:500])"
   ]
  },
  {
   "cell_type": "code",
   "execution_count": null,
   "metadata": {},
   "outputs": [],
   "source": [
    "# From https://pypi.org/project/gutenbergpy/\n",
    "def usage_example(id):\n",
    "    # This gets a book by its gutenberg id number\n",
    "    raw_book = textget.get_text_by_id(id) # with headers\n",
    "    clean_book = textget.strip_headers(raw_book) # without headers\n",
    "    return clean_book, raw_book\n",
    "\n",
    "def make_printable(bytes):\n",
    "    text = bytes.decode(\"utf-8\")\n",
    "    return text\n",
    "\n",
    "clean_book, raw_book = usage_example(1342)\n",
    "print(\"Clean book:\")\n",
    "print(make_printable(clean_book[:500]))\n",
    "print()\n",
    "print(\"Raw book:\")\n",
    "print(make_printable(raw_book[:500]))"
   ]
  },
  {
   "cell_type": "code",
   "execution_count": null,
   "metadata": {},
   "outputs": [],
   "source": [
    "type(raw_book)"
   ]
  },
  {
   "cell_type": "code",
   "execution_count": 6,
   "metadata": {},
   "outputs": [],
   "source": [
    "cache = GutenbergCache.get_cache()\n"
   ]
  },
  {
   "cell_type": "code",
   "execution_count": null,
   "metadata": {},
   "outputs": [],
   "source": []
  }
 ],
 "metadata": {
  "kernelspec": {
   "display_name": "LCATS",
   "language": "python",
   "name": "python3"
  },
  "language_info": {
   "codemirror_mode": {
    "name": "ipython",
    "version": 3
   },
   "file_extension": ".py",
   "mimetype": "text/x-python",
   "name": "python",
   "nbconvert_exporter": "python",
   "pygments_lexer": "ipython3",
   "version": "3.11.9"
  }
 },
 "nbformat": 4,
 "nbformat_minor": 2
}
