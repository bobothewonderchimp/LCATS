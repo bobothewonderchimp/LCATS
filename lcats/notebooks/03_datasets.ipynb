{
 "cells": [
  {
   "cell_type": "markdown",
   "metadata": {},
   "source": [
    "# Experiments with Text Corpora Datasets"
   ]
  },
  {
   "cell_type": "markdown",
   "metadata": {},
   "source": [
    "## Imports"
   ]
  },
  {
   "cell_type": "code",
   "execution_count": 1,
   "metadata": {},
   "outputs": [],
   "source": [
    "import os\n",
    "import sys\n",
    "\n",
    "from torch.utils.data import Dataset, DataLoader\n"
   ]
  },
  {
   "cell_type": "code",
   "execution_count": 2,
   "metadata": {},
   "outputs": [],
   "source": [
    "# Add the parent directory to the path so we can import modules from the parent directory.\n",
    "module_path = os.path.abspath(os.path.join('..'))\n",
    "if module_path not in sys.path:\n",
    "    sys.path.append(module_path)\n",
    "\n",
    "import lcats.datasets.torchdata as torchdata"
   ]
  },
  {
   "cell_type": "code",
   "execution_count": 3,
   "metadata": {},
   "outputs": [],
   "source": [
    "if False:  # Code to reload modules if we make local code changes, off by default.\n",
    "    from importlib import reload\n",
    "    reload(torchdata)"
   ]
  },
  {
   "cell_type": "markdown",
   "metadata": {},
   "source": [
    "## Story Dataset"
   ]
  },
  {
   "cell_type": "code",
   "execution_count": null,
   "metadata": {},
   "outputs": [],
   "source": [
    "NOTEBOOK_ROOT_DIR = \"../data\"\n",
    "\n",
    "def display_dataset(dataset, limit=None):\n",
    "    print(f\"Data Directory: {dataset.data_dir}\")\n",
    "    for index, story in enumerate(dataset):\n",
    "        print(f\" - {story['name']:60} - {len(story['body'])} characters\")\n",
    "        print(f\"   {dataset.file_paths[index]}\")\n",
    "        if limit is not None and index >= limit:\n",
    "            print(f\"[{len(dataset) - limit} more stories not shown]\")\n",
    "            break\n",
    "    print(f\"Total stories in dataset: {len(dataset)}\")\n",
    "    print()\n",
    "\n",
    "complete_dataset = torchdata.JsonDataset(NOTEBOOK_ROOT_DIR) \n",
    "\n",
    "display_dataset(complete_dataset, 10)\n",
    "\n",
    "\n"
   ]
  },
  {
   "cell_type": "code",
   "execution_count": null,
   "metadata": {},
   "outputs": [],
   "source": [
    "complete_dataset[0]['metadata']"
   ]
  },
  {
   "cell_type": "code",
   "execution_count": null,
   "metadata": {},
   "outputs": [],
   "source": [
    "complete_dataloader = DataLoader(complete_dataset, batch_size=2, shuffle=True)\n",
    "for batch in complete_dataloader:\n",
    "    print(batch)\n"
   ]
  },
  {
   "cell_type": "markdown",
   "metadata": {},
   "source": [
    "### Sherlock Subdirectory"
   ]
  },
  {
   "cell_type": "code",
   "execution_count": null,
   "metadata": {},
   "outputs": [],
   "source": [
    "sherlock_dataset = torchdata.JsonDataset(root_dir=NOTEBOOK_ROOT_DIR,\n",
    "                                         subdirectory=\"sherlock\")\n",
    "display_dataset(sherlock_dataset)"
   ]
  },
  {
   "cell_type": "code",
   "execution_count": null,
   "metadata": {},
   "outputs": [],
   "source": [
    "sherlock_dataset[0]['metadata']"
   ]
  },
  {
   "cell_type": "code",
   "execution_count": null,
   "metadata": {},
   "outputs": [],
   "source": [
    "sherlock_dataloader = DataLoader(sherlock_dataset, batch_size=2, shuffle=True)\n",
    "for batch in sherlock_dataloader:\n",
    "    print(batch)\n"
   ]
  },
  {
   "cell_type": "markdown",
   "metadata": {},
   "source": [
    "### Lovecraft Subdirectory"
   ]
  },
  {
   "cell_type": "code",
   "execution_count": null,
   "metadata": {},
   "outputs": [],
   "source": [
    "\n",
    "lovecraft_dataset = torchdata.JsonDataset(root_dir=NOTEBOOK_ROOT_DIR,\n",
    "                                          subdirectory=\"lovecraft\")\n",
    "display_dataset(lovecraft_dataset)"
   ]
  },
  {
   "cell_type": "code",
   "execution_count": null,
   "metadata": {},
   "outputs": [],
   "source": [
    "lovecraft_dataset[0]['metadata']"
   ]
  },
  {
   "cell_type": "code",
   "execution_count": null,
   "metadata": {},
   "outputs": [],
   "source": [
    "lovecraft_dataloader = DataLoader(lovecraft_dataset, batch_size=2, shuffle=True)\n",
    "for batch in lovecraft_dataloader:\n",
    "    print(batch)\n"
   ]
  },
  {
   "cell_type": "markdown",
   "metadata": {},
   "source": [
    "## Corpora Directory"
   ]
  },
  {
   "cell_type": "markdown",
   "metadata": {},
   "source": [
    "Test loading from the main Github corpora, rather than the dynamic local copy."
   ]
  },
  {
   "cell_type": "code",
   "execution_count": null,
   "metadata": {},
   "outputs": [],
   "source": [
    "corpora_dataset = torchdata.JsonDataset(\"../../corpora\") \n",
    "\n",
    "display_dataset(corpora_dataset, 10)\n"
   ]
  },
  {
   "cell_type": "code",
   "execution_count": null,
   "metadata": {},
   "outputs": [],
   "source": []
  }
 ],
 "metadata": {
  "kernelspec": {
   "display_name": "LCATS",
   "language": "python",
   "name": "python3"
  },
  "language_info": {
   "codemirror_mode": {
    "name": "ipython",
    "version": 3
   },
   "file_extension": ".py",
   "mimetype": "text/x-python",
   "name": "python",
   "nbconvert_exporter": "python",
   "pygments_lexer": "ipython3",
   "version": "3.11.9"
  }
 },
 "nbformat": 4,
 "nbformat_minor": 2
}
