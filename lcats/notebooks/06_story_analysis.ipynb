{
 "cells": [
  {
   "cell_type": "markdown",
   "metadata": {},
   "source": [
    "# Story Analysis Notebook"
   ]
  },
  {
   "cell_type": "markdown",
   "metadata": {},
   "source": [
    "## LASTCODE"
   ]
  },
  {
   "cell_type": "code",
   "execution_count": null,
   "metadata": {},
   "outputs": [],
   "source": []
  },
  {
   "cell_type": "code",
   "execution_count": null,
   "metadata": {},
   "outputs": [],
   "source": [
    "import os\n",
    "import re\n",
    "\n",
    "def find_matching_files(path, matcher):\n",
    "    \"\"\"\n",
    "    Recursively finds all files in the given directory that match the provided regex or tag.\n",
    "\n",
    "    Parameters:\n",
    "        path (str): Path to the root directory.\n",
    "        matcher (str or re.Pattern): A string or compiled regular expression to match filenames.\n",
    "\n",
    "    Returns:\n",
    "        list: A list of file paths that match the given matcher.\n",
    "    \"\"\"\n",
    "    matching_files = []\n",
    "    \n",
    "    # If matcher is a string, compile it into a regex pattern\n",
    "    if isinstance(matcher, str):\n",
    "        matcher = re.compile(matcher)\n",
    "\n",
    "    for root, _, files in os.walk(path):\n",
    "        for file in files:\n",
    "            if matcher.search(file):\n",
    "                matching_files.append(os.path.join(root, file))\n",
    "    \n",
    "    return matching_files"
   ]
  },
  {
   "cell_type": "code",
   "execution_count": null,
   "metadata": {},
   "outputs": [],
   "source": []
  }
 ],
 "metadata": {
  "kernelspec": {
   "display_name": "LCATS",
   "language": "python",
   "name": "python3"
  },
  "language_info": {
   "name": "python",
   "version": "3.11.9"
  }
 },
 "nbformat": 4,
 "nbformat_minor": 2
}
